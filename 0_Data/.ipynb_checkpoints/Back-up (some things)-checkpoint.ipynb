{
 "cells": [
  {
   "cell_type": "markdown",
   "id": "ba3bdeff",
   "metadata": {},
   "source": [
    "## Others things"
   ]
  },
  {
   "cell_type": "code",
   "execution_count": null,
   "id": "aaff56ce",
   "metadata": {},
   "outputs": [],
   "source": [
    "import pandas as pd\n",
    "import numpy as np\n",
    "import time\n",
    "\n",
    "import warnings\n",
    "warnings.filterwarnings(\"ignore\")\n",
    "\n",
    "import pyten"
   ]
  },
  {
   "cell_type": "code",
   "execution_count": null,
   "id": "165233a9",
   "metadata": {},
   "outputs": [],
   "source": [
    "if imputationType == \"LRTC\":\n",
    "    percentage_nans = (df_filter.isnull().sum().sum() / (df_filter.shape[0]*df_filter.shape[1]) \n",
    "    maxRank = int(np.round((X.shape[1] * X.shape[2]) * percentage_nans))\n",
    "\n",
    "    n1, n2, n3 = Xf.shape\n",
    "    coords = np.array(np.meshgrid(range(n1), range(n2), range(n3))).reshape(3, -1).T\n",
    "    df_lrtc = pd.DataFrame(coords, columns=[\"x1\", \"x2\", \"x3\"])\n",
    "    df_lrtc[\"r\"] = Xf[coords[:, 0], coords[:, 1], coords[:, 2]]\n",
    "    df_lrtc[\"x1\"] += 1\n",
    "    df_lrtc[\"x2\"] += 1\n",
    "    df_lrtc[\"x3\"] += 1\n",
    "\n",
    "    rank = 5\n",
    "    [OriTensor, DeTensor, TenClass, RecTensor, RecTensor_hat, mask] = pyten.UI.helios(df_lrtc, rank)\n",
    "\n",
    "    # Calculate the error between the real tensor and the reconstructed tensor\n",
    "    # we only consider the values different from nan\n",
    "    rec = RecTensor_hat * mask \n",
    "    real = np.nan_to_num(Xf)\n",
    "    error = np.linalg.norm(rec - real)/np.linalg.norm(real)\n",
    "    print(error)\n",
    "    fin = time.time()\n",
    "\n",
    "    finalTime_LRTC = fin - inicio\n",
    "    print(finalTime_LRTC)\n",
    "\n",
    "    X_LRTC = RecTensor_hat "
   ]
  },
  {
   "cell_type": "markdown",
   "id": "a09e3b4e",
   "metadata": {},
   "source": [
    "# Other things 2"
   ]
  },
  {
   "cell_type": "code",
   "execution_count": null,
   "id": "cfbc5023",
   "metadata": {},
   "outputs": [],
   "source": [
    "def timedelta_to_hours(td):\n",
    "    if pd.isnull(td):\n",
    "        return np.nan\n",
    "    else:\n",
    "        return td.total_seconds() / 3600\n",
    "\n",
    "def getNans(df):\n",
    "\n",
    "    pat_uniques = df.patientunitstayid.unique()\n",
    "    keys = list(df.keys())[2:]\n",
    "\n",
    "    nans_per_pat = []\n",
    "    for p in range(len(pat_uniques)):\n",
    "        nans_per_feature = []\n",
    "        for f in range(len(keys)):\n",
    "            pat = df[df.patientunitstayid == pat_uniques[p]]\n",
    "            nan_values = pat[[keys[f]]].isnull().sum()\n",
    "            nan_values = nan_values.values[0]\n",
    "            nans_per_feature.append(np.round(nan_values/pat.shape[0], 5) * 100)\n",
    "\n",
    "        nans_per_pat.append(nans_per_feature)\n",
    "\n",
    "    df_nans = pd.DataFrame(nans_per_pat, columns=df.columns[2:])\n",
    "    df_nans.insert(loc=0, column='patientunitstayid', value=df.patientunitstayid.unique())\n",
    "\n",
    "    return df_nans\n",
    "\n",
    "\n",
    "def temporalDataset(df_grupo, maxLength, flag):\n",
    "    \n",
    "    if len(df_grupo) < maxLength:\n",
    "        fill_values = {col: [flag] * (maxLength - len(df_grupo)) for col in df_grupo.columns[1:]}  \n",
    "        df_grupo = df_grupo.append(pd.DataFrame({'patientunitstayid': [df_grupo['patientunitstayid'].iloc[0]] * (maxLength - len(df_grupo)), **fill_values}), ignore_index=True)\n",
    "    else: \n",
    "        df_grupo = df_grupo.head(maxLength)\n",
    "        \n",
    "    return df_grupo\n",
    "\n",
    "\n",
    "def temporalDatasetRemovingPatients(df_grupo, maxLength, flag):\n",
    "    if len(df_grupo) < maxLength:\n",
    "        return None\n",
    "    else:\n",
    "        return df_grupo.head(maxLength)"
   ]
  },
  {
   "cell_type": "markdown",
   "id": "0527f02d",
   "metadata": {},
   "source": [
    "## Step 1: Filter per # of time steps"
   ]
  },
  {
   "cell_type": "code",
   "execution_count": null,
   "id": "52262a23",
   "metadata": {},
   "outputs": [],
   "source": [
    "print(\"# of patients:\", len(df.patientunitstayid.unique()))\n",
    "print(\"# of total rows:\", len(df.patientunitstayid.unique()) * numberOfTimeSteps)\n",
    "df_icu_entry = df[df.infusionoffset >= 0]\n",
    "# df_temp = df_icu_entry.groupby('patientunitstayid').apply(utils.temporalDataset, numberOfTimeSteps, flag).reset_index(drop=True)\n",
    "df_temp = df_icu_entry.groupby('patientunitstayid').apply(utils.temporalDatasetRemovingPatients, numberOfTimeSteps, flag).reset_index(drop=True)\n",
    "# df_nans_temp = utils.getNans(df_temp)\n",
    "# df_nans_temp"
   ]
  },
  {
   "cell_type": "markdown",
   "id": "a7c5beea",
   "metadata": {},
   "source": [
    "## Step 2. Matrix to tensor"
   ]
  },
  {
   "cell_type": "code",
   "execution_count": null,
   "id": "7579b1af",
   "metadata": {},
   "outputs": [],
   "source": [
    "X = dataframeToTensor(df_temp, numberOfTimeSteps)\n",
    "print(X.shape)"
   ]
  },
  {
   "cell_type": "markdown",
   "id": "8b1cb91d",
   "metadata": {},
   "source": [
    "## Step 3.A. LRTC imputation"
   ]
  },
  {
   "cell_type": "code",
   "execution_count": null,
   "id": "b8ad4522",
   "metadata": {
    "scrolled": true
   },
   "outputs": [],
   "source": [
    "inicio = time.time()\n",
    "\n",
    "\n",
    "n1, n2, n3 = Xf.shape\n",
    "coords = np.array(np.meshgrid(range(n1), range(n2), range(n3))).reshape(3, -1).T\n",
    "df_lrtc = pd.DataFrame(coords, columns=[\"x1\", \"x2\", \"x3\"])\n",
    "df_lrtc[\"r\"] = Xf[coords[:, 0], coords[:, 1], coords[:, 2]]\n",
    "df_lrtc[\"x1\"] += 1\n",
    "df_lrtc[\"x2\"] += 1\n",
    "df_lrtc[\"x3\"] += 1\n",
    "\n",
    "rank = 5\n",
    "[OriTensor, DeTensor, TenClass, RecTensor, RecTensor_hat, mask] = pyten.UI.helios(df_lrtc, rank)\n",
    "\n",
    "# Calculate the error between the real tensor and the reconstructed tensor\n",
    "# we only consider the values different from nan\n",
    "rec = RecTensor_hat * mask \n",
    "real = np.nan_to_num(Xf)\n",
    "error = np.linalg.norm(rec - real)/np.linalg.norm(real)\n",
    "print(error)\n",
    "fin = time.time()\n",
    "\n",
    "finalTime_LRTC = fin - inicio\n",
    "print(finalTime_LRTC)\n",
    "\n",
    "X_LRTC = RecTensor_hat"
   ]
  }
 ],
 "metadata": {
  "kernelspec": {
   "display_name": "Python 3 (ipykernel)",
   "language": "python",
   "name": "python3"
  },
  "language_info": {
   "codemirror_mode": {
    "name": "ipython",
    "version": 3
   },
   "file_extension": ".py",
   "mimetype": "text/x-python",
   "name": "python",
   "nbconvert_exporter": "python",
   "pygments_lexer": "ipython3",
   "version": "3.11.4"
  }
 },
 "nbformat": 4,
 "nbformat_minor": 5
}
