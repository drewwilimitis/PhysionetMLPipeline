{
 "cells": [
  {
   "cell_type": "markdown",
   "id": "b8ff134e",
   "metadata": {},
   "source": [
    "## Parameteres to define"
   ]
  },
  {
   "cell_type": "code",
   "execution_count": 2,
   "id": "e49bc265",
   "metadata": {},
   "outputs": [
    {
     "name": "stdout",
     "output_type": "stream",
     "text": [
      "split... s1\n",
      "Length of window: 4\n",
      "# of windowing patients (train): 6235 - # of original patients: 424\n",
      "# of windowing patients (test): 1616 - # of original patients: 107\n",
      "X_train: (6235, 4, 182)\n",
      "X_test: (1616, 4, 182)\n",
      "split... s2\n",
      "Length of window: 4\n",
      "# of windowing patients (train): 6090 - # of original patients: 424\n",
      "# of windowing patients (test): 1761 - # of original patients: 107\n",
      "X_train: (6090, 4, 182)\n",
      "X_test: (1761, 4, 182)\n",
      "split... s3\n",
      "Length of window: 4\n",
      "# of windowing patients (train): 6323 - # of original patients: 424\n",
      "# of windowing patients (test): 1528 - # of original patients: 107\n",
      "X_train: (6323, 4, 182)\n",
      "X_test: (1528, 4, 182)\n"
     ]
    }
   ],
   "source": [
    "import processData\n",
    "import numpy as np\n",
    "\n",
    "# File to laod\n",
    "path = '../datasets/eicu_demo_0.5.6.parquet'\n",
    "# Type of imputation\n",
    "imputationType = \"LRTC\" #LVCF\n",
    "# Threshold to remove features without data\n",
    "thr_nan = 5\n",
    "debug = False\n",
    "seeds = [34, 56, 78]\n",
    "folders = [\"s1\", \"s2\", \"s3\"]\n",
    "\n",
    "for i in range(len(seeds)):\n",
    "    print(\"split...\", folders[i])\n",
    "    X_train, X_test, y_train, y_test = processData.getSplits(path, imputationType, thr_nan, seeds[i])\n",
    "    np.save(\n",
    "       \"./splits/\" + folders[i] + \"/X_train_tensor.npy\", X_train\n",
    "    )\n",
    "    y_train.to_csv(\"./splits/\" + folders[i] + \"/y_train_tensor.csv\", index=False)"
   ]
  },
  {
   "cell_type": "code",
   "execution_count": null,
   "id": "78dd5e43",
   "metadata": {},
   "outputs": [],
   "source": []
  }
 ],
 "metadata": {
  "kernelspec": {
   "display_name": "Python 3 (ipykernel)",
   "language": "python",
   "name": "python3"
  },
  "language_info": {
   "codemirror_mode": {
    "name": "ipython",
    "version": 3
   },
   "file_extension": ".py",
   "mimetype": "text/x-python",
   "name": "python",
   "nbconvert_exporter": "python",
   "pygments_lexer": "ipython3",
   "version": "3.11.4"
  }
 },
 "nbformat": 4,
 "nbformat_minor": 5
}
