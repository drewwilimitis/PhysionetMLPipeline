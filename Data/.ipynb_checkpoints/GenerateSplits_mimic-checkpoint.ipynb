{
 "cells": [
  {
   "cell_type": "code",
   "execution_count": 1,
   "id": "dafb0d79",
   "metadata": {},
   "outputs": [],
   "source": [
    "import splits_generation\n",
    "import utils\n",
    "import numpy as np\n",
    "import pandas as pd"
   ]
  },
  {
   "cell_type": "markdown",
   "id": "2da7890a",
   "metadata": {},
   "source": [
    "## App2. Sliding window"
   ]
  },
  {
   "cell_type": "code",
   "execution_count": 2,
   "id": "a2b806a2",
   "metadata": {},
   "outputs": [],
   "source": [
    "# SEPSIS DEFINITION\n",
    "# Question 1) How many hours do we propagate a True atb backwards and forwards? \n",
    "# Parameters defined as Nts_pre and Nts_post. \n",
    "# Question 2) How many hours do we propagate from sepsis_onset?\n",
    " \n",
    "sep_def = {\n",
    "    # Parameteres for antibiotic propagation\n",
    "    'Nts_pre': 24, 'Nts_post': 24,\n",
    "    # Parametere for sepsis propagation\n",
    "    'N_prog_sep': 12, \n",
    "    # Parameter for determine sepsis onset\n",
    "    'increm_sofa': 2,\n",
    "    # Time step of reference: ICU admission (True) or pre-ICU admission (False)\n",
    "    'ref_sofa_icu': False\n",
    "}\n",
    " \n",
    "keys_to_select_filter = ['stay_id', 'stay_time',\n",
    "'hr_raw','o2sat_raw','temp_raw','sbp_raw','map_raw','dbp_raw','resp_raw','etco2_raw','fio2_raw',\n",
    "'be_raw', 'bicar_raw','ph_raw','pco2_raw','cl_raw','mg_raw','phos_raw','k_raw','ast_raw','bun_raw',\n",
    "'alp_raw','ca_raw','crea_raw','bildir_raw','glu_raw','lact_raw', 'bili_raw','tri_raw','hct_raw',\n",
    "'hgb_raw','ptt_raw','wbc_raw','fgn_raw','plt_raw','age_static','female_static','cai_raw','na_raw',\n",
    "'po2_raw','alb_raw','alt_raw','ck_raw','ckmb_raw','crp_raw','tnt_raw','urine_raw','basos_raw',\n",
    "'bnd_raw','eos_raw','esr_raw','hbco_raw','inrpt_raw','lymph_raw','mch_raw','mchc_raw',\n",
    "'mcv_raw','methb_raw','neut_raw','pt_raw','rbc_raw','rdw_raw','tco2_raw','weight_static','height_static', 'abx', 'sofa']\n",
    "\n",
    "keys_to_select = ['stay_id', 'stay_time','hr_raw', 'o2sat_raw','dbp_raw', 'map_raw', 'resp_raw', 'fio2_raw',  'crp_raw',\n",
    "                  'po2_raw','bili_raw', 'plt_raw', 'crea_raw', 'temp_raw',\n",
    "                  #'age_static','female_static','weight_static','height_static', \n",
    "                  'sep_onset','sep_%2s' % str(sep_def['N_prog_sep'])]\n",
    "\n",
    " \n",
    "params_to_configure = {\n",
    "    # File to laod\n",
    "    'path': '../datasets/hirid_0.5.6.parquet',\n",
    "    'w_pre_onset':  None,  # Number of windows pre sep_onset = 1\n",
    "    'w_post_onset':  None,  # Number of windows post sep_onset = 1\n",
    "    'keys': keys_to_select,\n",
    "    'label':  ['sep_onset','sep_'+str(sep_def['N_prog_sep'])],\n",
    "    'f_tr_te':  ['stay_id', 'stay_time','sep_onset','sep_%2s' % str(sep_def['N_prog_sep']), 'w_id'],\n",
    "    # sliding window\n",
    "    'moving_span': 1,\n",
    "    # min_length_pat\n",
    "    'min_length_pat': 0, # default: 0\n",
    "    # Type of imputation\n",
    "    'imputationType': \"LVCF\",\n",
    "    # filter or not patients with less of th information    \n",
    "    \"filter_pat_nans\": False, # if true, fix a threshold (next)\n",
    "    # Threshold: remove patients with less information that theshold value\n",
    "    'th': 50,\n",
    "    # Only select patients with sepsis\n",
    "    \"filter_pat\": False,\n",
    "    \"length_window\": 7,\n",
    "}\n",
    " \n",
    "seeds = [34, 56, 78]\n",
    "folders = [\"s1\", \"s2\", \"s3\"]"
   ]
  },
  {
   "cell_type": "code",
   "execution_count": 3,
   "id": "2bb09162",
   "metadata": {},
   "outputs": [],
   "source": [
    "df = pd.read_parquet(params_to_configure['path'])"
   ]
  },
  {
   "cell_type": "code",
   "execution_count": 7,
   "id": "569d7675",
   "metadata": {},
   "outputs": [
    {
     "data": {
      "text/plain": [
       "Index(['hgb_raw', 'ptt_raw', 'wbc_raw', 'fgn_raw', 'plt_raw', 'age_static',\n",
       "       'female_static', 'cai_raw', 'na_raw', 'po2_raw', 'alb_raw', 'alt_raw',\n",
       "       'ck_raw', 'ckmb_raw', 'crp_raw', 'tnt_raw', 'urine_raw', 'basos_raw',\n",
       "       'bnd_raw', 'eos_raw', 'esr_raw', 'hbco_raw', 'inrpt_raw', 'lymph_raw',\n",
       "       'mch_raw', 'mchc_raw', 'mcv_raw', 'methb_raw', 'neut_raw', 'pt_raw',\n",
       "       'rbc_raw', 'rdw_raw', 'tco2_raw', 'weight_static', 'height_static',\n",
       "       'sresp', 'scoag', 'sliver', 'scardio', 'scns', 'srenal', 'sofa',\n",
       "       'qsofa', 'sirs', 'news', 'mews', 'death', 'abx', 'ventialtion',\n",
       "       'vasopressors', 'dur_var', 'all_miss', 'ts_miss', 'ts_avail',\n",
       "       'onset_ind', 'onset_delta', 'is_case', 'phys_pos_utility',\n",
       "       'phys_neg_utility', 'phys_cum_utility', 'phys_opt_utility',\n",
       "       'class_m6_p6', 'class_m6_inf', 'reg_m8_m1', 'reg_p4_m1', 'hr_ind',\n",
       "       'o2sat_ind', 'temp_ind', 'sbp_ind', 'map_ind', 'dbp_ind', 'resp_ind',\n",
       "       'etco2_ind', 'fio2_ind', 'be_ind', 'bicar_ind', 'ph_ind', 'pco2_ind',\n",
       "       'cl_ind', 'mg_ind', 'phos_ind', 'k_ind', 'ast_ind', 'bun_ind',\n",
       "       'alp_ind', 'ca_ind', 'crea_ind', 'bildir_ind', 'glu_ind', 'lact_ind'],\n",
       "      dtype='object')"
      ]
     },
     "execution_count": 7,
     "metadata": {},
     "output_type": "execute_result"
    }
   ],
   "source": [
    "df.keys()[30:120]"
   ]
  },
  {
   "cell_type": "code",
   "execution_count": null,
   "id": "d4a8183d",
   "metadata": {},
   "outputs": [],
   "source": [
    "keys_by_split = []\n",
    "idx_exp = 2\n",
    "\n",
    "params_to_configure['min_length_pat'] = 0\n",
    "df, min_length_pat = splits_generation.preprocessing(params_to_configure, \n",
    "                                                    sep_def,  \n",
    "                                                    debug=False)\n",
    "\n",
    "df_sw = utils.slidingWindow(df, params_to_configure['moving_span'], params_to_configure['length_window'])\n",
    "df_filter = utils.filterWindows(df_sw)"
   ]
  },
  {
   "cell_type": "code",
   "execution_count": null,
   "id": "87dbcaab",
   "metadata": {},
   "outputs": [],
   "source": [
    "df_filter.to_parquet('df_app2_mimic.parquet', index=False)"
   ]
  },
  {
   "cell_type": "code",
   "execution_count": null,
   "id": "58884a2b",
   "metadata": {},
   "outputs": [],
   "source": [
    "for i in range(len(seeds)):\n",
    "    print(\"split...\", folders[i])    \n",
    "    params_to_configure['min_length_pat'] = params_to_configure['length_window']\n",
    "    X_train, X_test, y_train, y_test, keys, w_id_tr, w_id_te = splits_generation.get_tr_te(df_filter,\n",
    "                                                                        params_to_configure, \n",
    "                                                                        seeds[i])\n",
    "    \n",
    "    \n",
    "    \n",
    "    keys_by_split.append(keys)\n",
    "    print(\"X_train:\", X_train.shape)\n",
    "    print(\"X_test:\", X_test.shape)\n",
    "    print(y_train.shape)\n",
    "    print(y_test.shape)\n",
    "    \n",
    "    \n",
    "    np.save(\n",
    "       \"./splits/mimic/App\"+str(idx_exp)+\"/\"+ folders[i] + \"/X_train_tensor.npy\", X_train\n",
    "    )\n",
    "    np.save(\n",
    "       \"./splits/mimic/App\"+str(idx_exp)+\"/\"+ folders[i] + \"/y_train_tensor.npy\", y_train\n",
    "    )\n",
    "    np.save(\n",
    "       \"./splits/mimic/App\"+str(idx_exp)+\"/\"+ folders[i] + \"/X_test_tensor.npy\", X_test\n",
    "    )\n",
    "    np.save(\n",
    "       \"./splits/mimic/App\"+str(idx_exp)+\"/\"+ folders[i] + \"/y_test_tensor.npy\", y_test\n",
    "    )\n",
    "    \n",
    "    pd.DataFrame(keys).to_csv(\"./splits/mimic/App\"+str(idx_exp)+\"/\"+ folders[i] + \"/keys.csv\")\n",
    "    w_id_tr.to_csv(\"./splits/mimic/App\"+str(idx_exp)+\"/\"+ folders[i] + \"/w_id_tr.csv\")\n",
    "    w_id_te.to_csv(\"./splits/mimic/App\"+str(idx_exp)+\"/\"+ folders[i] + \"/w_id_te.csv\")"
   ]
  },
  {
   "cell_type": "code",
   "execution_count": null,
   "id": "592b127b",
   "metadata": {},
   "outputs": [],
   "source": []
  }
 ],
 "metadata": {
  "kernelspec": {
   "display_name": "Python 3 (ipykernel)",
   "language": "python",
   "name": "python3"
  },
  "language_info": {
   "codemirror_mode": {
    "name": "ipython",
    "version": 3
   },
   "file_extension": ".py",
   "mimetype": "text/x-python",
   "name": "python",
   "nbconvert_exporter": "python",
   "pygments_lexer": "ipython3",
   "version": "3.11.4"
  }
 },
 "nbformat": 4,
 "nbformat_minor": 5
}
