{
 "cells": [
  {
   "cell_type": "code",
   "execution_count": 1,
   "metadata": {},
   "outputs": [],
   "source": [
    "import pandas as pd\n",
    "import numpy as np\n",
    "from datetime import timedelta\n",
    "\n",
    "import warnings\n",
    "warnings.filterwarnings(\"ignore\")"
   ]
  },
  {
   "cell_type": "markdown",
   "metadata": {},
   "source": [
    "## Step 1."
   ]
  },
  {
   "cell_type": "code",
   "execution_count": 2,
   "metadata": {},
   "outputs": [],
   "source": [
    "def readTable(path):\n",
    "    df = pd.read_csv(path)\n",
    "    return df\n",
    "\n",
    "def isSepsis(text):\n",
    "    if 'sepsis' in text.lower():\n",
    "        return 1\n",
    "    else:\n",
    "        return 0\n",
    "    \n",
    "def sepsisLabel(path, df_pat):\n",
    "    df_adx = readTable(path)\n",
    "    df_adx['sepsis_diag'] = df_adx['admitdxtext'].apply(isSepsis)\n",
    "    df_adx = df_adx[['patientunitstayid', 'sepsis_diag']]\n",
    "    df_adx = df_adx.sort_values(by=['patientunitstayid', 'sepsis_diag'], ascending=[True, False])\n",
    "    df_adx = df_adx.drop_duplicates(subset='patientunitstayid', keep='first')\n",
    "    df_pat = pd.merge(df_pat, df_adx, on=['patientunitstayid'], how=\"left\").drop_duplicates().reset_index(drop=True)\n",
    "    return df_pat\n",
    "\n",
    "def processTables(df_pat, keys, offsetfeature, pathTable, debug=True):\n",
    "    df = readTable(pathTable)\n",
    "    if debug: print(\"SHAPE:\", df.shape)\n",
    "    # Add to lab features date of started ICU\n",
    "    data = df_pat[['patientunitstayid', 'unitadmittime24']].drop_duplicates().reset_index(drop=True)\n",
    "    df_merge = pd.merge(df, data, on='patientunitstayid', how='left').drop_duplicates().reset_index(drop=True)\n",
    "\n",
    "    # For each sample, get the date of started icu + minutes from lab test/results\n",
    "    df_merge['unitadmittime24'] = pd.to_datetime(df_merge['unitadmittime24'])  \n",
    "    df_merge['dateEvent'] = df_merge.apply(lambda row: row['unitadmittime24'] + \\\n",
    "                                                timedelta(minutes=row[offsetfeature]), axis=1)\n",
    "    \n",
    "    df_merge = df_merge.rename(columns={offsetfeature: 'offset'})\n",
    "    if debug: print(\"FINAL SHAPE:\", df.shape)\n",
    "    df_merge['offset'] = df_merge['offset'].clip(lower=0)\n",
    "    \n",
    "    return df_merge[keys]\n",
    "\n",
    "\n",
    "def processHighDimensionalTables(df_pat, keys, offsetfeature, df, debug=True):\n",
    "    if debug: print(\"SHAPE:\", df.shape)\n",
    "    # Add to lab features date of started ICU\n",
    "    data = df_pat[['patientunitstayid', 'unitadmittime24']].drop_duplicates().reset_index(drop=True)\n",
    "    df_merge = pd.merge(df, data, on='patientunitstayid', how='left').drop_duplicates().reset_index(drop=True)\n",
    "\n",
    "    # For each sample, get the date of started icu + minutes from lab test/results\n",
    "    df_merge['unitadmittime24'] = pd.to_datetime(df_merge['unitadmittime24'])  \n",
    "    df_merge['dateEvent'] = df_merge.apply(lambda row: row['unitadmittime24'] + \\\n",
    "                                                timedelta(minutes=row[offsetfeature]), axis=1)\n",
    "    df_merge = df_merge.rename(columns={offsetfeature: 'offset'})\n",
    "    if debug: print(\"FINAL SHAPE:\", df.shape)\n",
    "    df_merge['offset'] = df_merge['offset'].clip(lower=0)\n",
    "\n",
    "    return df_merge[keys]"
   ]
  },
  {
   "cell_type": "code",
   "execution_count": null,
   "metadata": {},
   "outputs": [],
   "source": [
    "debug = True\n",
    "#====================== LOAD DATA ==========================#\n",
    "df_pat = readTable(\"../datasets/physionet-eicu-crb/patient.csv\")\n",
    "#====================== ADMISSIONDDX ==========================#\n",
    "df_pat = sepsisLabel(\"../datasets/physionet-eicu-crb/admissionDx.csv\", df_pat)\n",
    "df_pat = df_pat[['patientunitstayid', 'gender', 'age', 'apacheadmissiondx', 'admissionweight', 'dischargeweight',\n",
    "'unitadmittime24', 'unitdischargetime24', 'unitdischargeoffset', 'unitdischargelocation', 'sepsis_diag']]\n",
    "df_pat.to_csv('./icu-files-processed/df_pat.csv', index=False)\n",
    "\n",
    "#====================== ALLERGY ==========================#\n",
    "pathTable = \"../datasets/physionet-eicu-crb/allergy.csv\"\n",
    "offsetfeature = 'allergyoffset'\n",
    "keys = ['patientunitstayid',  'unitadmittime24', 'dateEvent', 'offset', 'allergynotetype',\n",
    "        'specialtytype', 'allergyname']\n",
    "df_allergy = processTables(df_pat, keys, offsetfeature, pathTable, debug)\n",
    "df_allergy.to_csv('./icu-files-processed/df_allergy.csv', index=False)\n",
    "\n",
    "#====================== LAB ==========================#\n",
    "pathTable = \"../datasets/physionet-eicu-crb/lab.csv\"\n",
    "offsetfeature = 'labresultoffset'\n",
    "keys = ['patientunitstayid',  'unitadmittime24', 'dateEvent', 'offset', 'labname', \n",
    "        'labresult','labresulttext', 'labmeasurenamesystem']\n",
    "df_lab = processTables(df_pat, keys, offsetfeature, pathTable, debug)\n",
    "df_lab.to_csv('./icu-files-processed/df_lab.csv', index=False)\n",
    "\n",
    "#====================== diagnosis ==========================#\n",
    "pathTable = \"../datasets/physionet-eicu-crb/diagnosis.csv\"\n",
    "offsetfeature = 'diagnosisoffset'\n",
    "keys = ['patientunitstayid', 'unitadmittime24', 'dateEvent', 'offset', 'diagnosisstring', \n",
    "        'icd9code', 'diagnosispriority']\n",
    "df_diag = processTables(df_pat, keys, offsetfeature, pathTable, debug)\n",
    "df_diag.to_csv('./icu-files-processed/df_diag.csv', index=False)\n",
    "\n",
    "#====================== vitalAPeriodic  ==========================#\n",
    "pathTable = \"../datasets/physionet-eicu-crb/vitalAperiodic.csv\"\n",
    "offsetfeature = 'observationoffset'\n",
    "keys = ['patientunitstayid','unitadmittime24', 'dateEvent', 'offset', 'noninvasivesystolic',\n",
    "        'noninvasivediastolic', 'noninvasivemean',\n",
    "       'paop', 'cardiacoutput', 'cardiacinput', 'svr', 'svri', 'pvr', 'pvri']\n",
    "df_va = processTables(df_pat, keys, offsetfeature, pathTable, debug)\n",
    "df_va.to_csv('./icu-files-processed/df_va.csv', index=False)\n",
    "\n",
    "#====================== microLab  ==========================#\n",
    "pathTable = \"../datasets/physionet-eicu-crb/microLab.csv\"\n",
    "offsetfeature = 'culturetakenoffset'\n",
    "keys = ['patientunitstayid', 'unitadmittime24', 'dateEvent', 'offset', 'culturesite', 'organism']\n",
    "df_microlab = processTables(df_pat, keys, offsetfeature, pathTable, debug)\n",
    "df_microlab.to_csv('./icu-files-processed/df_microLab.csv', index=False)\n",
    "\n",
    "#====================== infusionDrug  ==========================#\n",
    "pathTable = \"../datasets/physionet-eicu-crb/infusionDrug.csv\"\n",
    "offsetfeature = 'infusionoffset'\n",
    "keys = ['patientunitstayid', 'unitadmittime24', 'dateEvent', 'offset', 'drugname', 'drugrate']\n",
    "df_drugs = processTables(df_pat, keys, offsetfeature, pathTable, debug)\n",
    "df_drugs.to_csv('./icu-files-processed/drugs.csv', index=False)\n"
   ]
  },
  {
   "cell_type": "code",
   "execution_count": null,
   "metadata": {
    "scrolled": true
   },
   "outputs": [],
   "source": [
    "#====================== vitalPeriodic  ==========================#\n",
    "pathTable = \"../datasets/physionet-eicu-crb/vitalPeriodic.csv\"\n",
    "offsetfeature = 'observationoffset'\n",
    "keys = ['patientunitstayid', 'unitadmittime24', 'dateEvent', 'offset',\n",
    "        'temperature', 'sao2', 'heartrate', 'respiration', 'cvp', 'etco2',\n",
    "       'systemicsystolic', 'systemicdiastolic', 'systemicmean', 'pasystolic',\n",
    "       'padiastolic', 'pamean', 'st1', 'st2', 'st3', 'icp']\n",
    "\n",
    "relevantFeatures = ['patientunitstayid', 'unitadmittime24', 'dateEvent', 'offset',\n",
    "                    'temperature', 'sao2', 'heartrate', 'respiration']\n",
    "new_names = {'temperature': 'BT',\n",
    "            'heartrate': 'HR'}\n",
    "\n",
    "df = readTable(pathTable)\n",
    "df_vp = processHighDimensionalTables(df_pat, keys, offsetfeature, df[0:48890547].reset_index(drop=True), debug)\n",
    "df_vp = df_vp[relevantFeatures]\n",
    "df_vp = df_vp.rename(columns=new_names)\n",
    "df_vp.to_csv('./icu-files-processed/df_vp_1.csv', index=False)\n",
    "\n",
    "df_vp = processHighDimensionalTables(df_pat, keys, offsetfeature, df[48890548:97781095].reset_index(drop=True), debug)\n",
    "df_vp = df_vp[relevantFeatures]\n",
    "df_vp = df_vp.rename(columns=new_names)\n",
    "df_vp.to_csv('./icu-files-processed/df_vp_2.csv', index=False)\n",
    "\n",
    "df_vp = processHighDimensionalTables(df_pat, keys, offsetfeature, df[97781096:].reset_index(drop=True), debug)\n",
    "df_vp = df_vp[relevantFeatures]\n",
    "df_vp = df_vp.rename(columns=new_names)\n",
    "df_vp.to_csv('./icu-files-processed/df_vp_3.csv', index=False)"
   ]
  },
  {
   "cell_type": "markdown",
   "metadata": {},
   "source": [
    "## Step 2: Process dataset (individually)"
   ]
  },
  {
   "cell_type": "code",
   "execution_count": 3,
   "metadata": {},
   "outputs": [],
   "source": [
    "def createTemporalDataset(df, init, offset, frequency='12H'):\n",
    "    '''\n",
    "    Function that allows to create from a start date and the number of\n",
    "    minutes elapsed, N timeSteps based on the set frequency. \n",
    "    '''\n",
    "    \n",
    "    df[init] = pd.to_datetime(df[init])\n",
    "    df[offset] = pd.to_timedelta(df[offset], unit='m')\n",
    "\n",
    "    df_temp = pd.DataFrame(columns=['patientunitstayid', 'timeStep'])\n",
    "    for index, row in df.iterrows():\n",
    "        dates = pd.date_range(start=row[init], end=row[init] + row[offset], freq=frequency)\n",
    "        temp_df = pd.DataFrame({'patientunitstayid': [row['patientunitstayid']] * len(dates),\n",
    "                                'Started': dates})\n",
    "        df_temp = pd.concat([df_temp, temp_df], ignore_index=True)\n",
    "\n",
    "    df_temp['timeStep'] = df_temp.groupby('patientunitstayid').cumcount() + 1\n",
    "    df_temp = pd.merge(df, df_temp, on='patientunitstayid', how='inner')\n",
    "    return df_temp\n",
    "\n",
    "def groupByTimeStep(df, frequencyVal):\n",
    "    df['timeStep']  = np.ceil(df['offset'] / (60*frequencyVal)) + 1\n",
    "    df = df.groupby(['patientunitstayid', 'timeStep']).median().reset_index()\n",
    "    return df"
   ]
  },
  {
   "cell_type": "code",
   "execution_count": 4,
   "metadata": {},
   "outputs": [],
   "source": [
    "frequency = '12H'\n",
    "frequencyVal = 12"
   ]
  },
  {
   "cell_type": "code",
   "execution_count": null,
   "metadata": {},
   "outputs": [],
   "source": [
    "# Files to load and process\n",
    "files = ['pat', 'diag', 'allergy', 'lab', 'microLab', 'drugs', 'va', 'vp_1', 'vp_2', 'vp_3']\n",
    "\n",
    "############################\n",
    "# Load all patients\n",
    "############################\n",
    "df = readTable(\"./icu-files-processed/df_\"+files[0]+\".csv\")\n",
    "\n",
    "############################\n",
    "# Process sepsis label\n",
    "############################\n",
    "df_sepsis = readTable(\"./icu-files-processed/df_\"+files[1]+\".csv\")\n",
    "codigos_sepsis = ['995.90', '995.91', '995.92', '995.94', '995.93', '038.9', '995.0']\n",
    "df_sepsis['sepsisLabel'] = df_sepsis['icd9code'].isin(codigos_sepsis).astype(int)\n",
    "df_sepsis = df_sepsis[['patientunitstayid', 'sepsisLabel']]\n",
    "\n",
    "# Merge sepsis label with patient information\n",
    "df_pat = pd.merge(df, df_sepsis, on=['patientunitstayid'], how='left').drop_duplicates().reset_index(drop=True)\n",
    "\n",
    "############################\n",
    "# Process allergy dataset\n",
    "############################\n",
    "# Ignore allergy (no data when we merge both datasets)\n",
    "# df_allergy = readTable(\"./icu-files-processed/df_\"+files[1]+\".csv\")\n",
    "# df = pd.merge(df, df_allergy, on=['patientunitstayid', 'unitadmittime24'], how='left').drop_duplicates().reset_index(drop=True)\n",
    "\n",
    "# pat = df_pat.patientunitstayid.unique()[0:100]\n",
    "# df = df_pat[df_pat.patientunitstayid.isin(pat)]\n",
    "df_temp = createTemporalDataset(df_pat, 'unitadmittime24', 'unitdischargeoffset', frequency)\n",
    "print(df_temp.shape)\n",
    "df_temp.to_csv('./dataProcessed/df_temp.csv', index=False)"
   ]
  },
  {
   "cell_type": "code",
   "execution_count": null,
   "metadata": {},
   "outputs": [],
   "source": [
    "############################\n",
    "# Process lab dataset\n",
    "############################\n",
    "df = readTable(\"./icu-files-processed/df_\"+files[3]+\".csv\")\n",
    "df_aux = df.copy()#[df.patientunitstayid.isin(df_temp.patientunitstayid.unique())]\n",
    "\n",
    "df_pivoted = pd.pivot_table(df_aux, \n",
    "                             index=['patientunitstayid', 'unitadmittime24', 'dateEvent', 'offset'], \n",
    "                             columns='labname', \n",
    "                             values='labresult',\n",
    "                             aggfunc='first').reset_index()\n",
    "\n",
    "relevantFeatures = [\n",
    "        'patientunitstayid',\n",
    "        'unitadmittime24',\n",
    "        'dateEvent',\n",
    "        'offset',\n",
    "        'WBC x 1000',\n",
    "        \"WBC's in cerebrospinal fluid\",\n",
    "        \"WBC's in synovial fluid\",\n",
    "        'paCO2',\n",
    "        'paO2',\n",
    "        'FiO2',\n",
    "        'direct bilirubin',\n",
    "        'total bilirubin',\n",
    "        'creatinine',\n",
    "        'platelets x 1000',\n",
    "        'protein C', '-lymphs', '-monos', '-eos',\n",
    "        'albumin', 'calcium','glucose', 'pH', 'potassium', 'sodium',\n",
    "        'lactate',\n",
    "        'Respiratory Rate']\n",
    "\n",
    "df_pivoted = df_pivoted[relevantFeatures]\n",
    "\n",
    "new_names = {'paCO2': 'PaC02', 'paO2': 'PaO2',\n",
    "'direct bilirubin': 'Direct_BIL','total bilirubin': 'Ttl_BIL',\n",
    "'creatinine': 'CRE', 'albumin':'ALB', 'calcium':'Ca','glucose':'GLC',\n",
    "'potassium':'K', 'sodium':'Na', 'lactate': 'LAC',\n",
    "'platelets x 1000': 'PLT',\n",
    "'protein C': 'CRP', '-lymphs':'LYMPH', '-monos':'MONO', '-eos':'EOS',\n",
    "'Respiratory Rate': 'RR'}\n",
    "\n",
    "df_lab_f = df_pivoted.rename(columns=new_names)\n",
    "df_lab_f['timeStep']  = np.ceil(df_lab_f['offset'] / (60*frequencyVal)) + 1\n",
    "\n",
    "df_lab_f.to_csv('./dataProcessed/df_lab.csv', index=False)"
   ]
  },
  {
   "cell_type": "code",
   "execution_count": null,
   "metadata": {},
   "outputs": [],
   "source": [
    "############################\n",
    "# Process microlab dataset\n",
    "############################\n",
    "df_microLab_f = readTable(\"./icu-files-processed/df_\"+files[4]+\".csv\")\n",
    "# if we have negative values, it means that the crop was pre-cultivated, we truncate the values to 0.\n",
    "df_microLab_f['timeStep']  = np.ceil(df_microLab_f['offset'] / (60*frequencyVal)) + 1\n",
    "df_microLab_f.to_csv('./dataProcessed/df_microLab.csv', index=False)\n",
    "\n",
    "############################\n",
    "# Process drugs dataset\n",
    "############################\n",
    "df_drugs_f = readTable(\"./icu-files-processed/df_\"+files[5]+\".csv\")\n",
    "df_drugs_f['timeStep']  = np.ceil(df_drugs_f['offset'] / (60*frequencyVal)) + 1\n",
    "df_drugsGrouped = df_drugs_f.groupby(['patientunitstayid', 'timeStep'])['drugname'].count().reset_index()\n",
    "df_drugsGrouped = df_drugsGrouped.rename(columns={'drugname': 'numberOfDrugs'})\n",
    "df_drugsGrouped.to_csv('./dataProcessed/df_drugs.csv', index=False)\n",
    "\n",
    "############################\n",
    "# Process vitalAperiodic dataset\n",
    "############################\n",
    "df_va_f = readTable(\"./icu-files-processed/df_\"+files[6]+\".csv\")\n",
    "df_vaGrouped = groupByTimeStep(df_va_f, frequencyVal)\n",
    "df_vaGrouped = df_vaGrouped[['patientunitstayid', 'timeStep', 'offset', 'noninvasivesystolic',\n",
    "       'noninvasivediastolic']]\n",
    "df_vaGrouped.to_csv('./dataProcessed/df_va.csv', index=False)"
   ]
  },
  {
   "cell_type": "code",
   "execution_count": null,
   "metadata": {},
   "outputs": [],
   "source": [
    "############################\n",
    "# Process vitalPeriodic dataset\n",
    "############################\n",
    "df_vp_f1 = readTable(\"./icu-files-processed/df_\"+files[7]+\".csv\")\n",
    "df_vpGrouped1 = groupByTimeStep(df_vp_f1, frequencyVal)\n",
    "df_vpGrouped1.to_csv('./dataProcessed/df_vp1.csv', index=False)\n",
    "\n",
    "df_vp_f2 = readTable(\"./icu-files-processed/df_\"+files[8]+\".csv\")\n",
    "df_vpGrouped2 = groupByTimeStep(df_vp_f2, frequencyVal)\n",
    "df_vpGrouped2.to_csv('./dataProcessed/df_vp2.csv', index=False)\n",
    "\n",
    "df_vp_f3 = readTable(\"./icu-files-processed/df_\"+files[9]+\".csv\")\n",
    "df_vpGrouped3 = groupByTimeStep(df_vp_f3, frequencyVal)\n",
    "df_vpGrouped3.to_csv('./dataProcessed/df_vp3.csv', index=False)"
   ]
  },
  {
   "cell_type": "code",
   "execution_count": null,
   "metadata": {},
   "outputs": [],
   "source": [
    "############################\n",
    "# Process Apache dataset for stimate GCS (TO DO)\n",
    "############################"
   ]
  },
  {
   "cell_type": "markdown",
   "metadata": {},
   "source": [
    "## Step 3: Union dataset"
   ]
  },
  {
   "cell_type": "code",
   "execution_count": 5,
   "metadata": {},
   "outputs": [],
   "source": [
    "df_temp = readTable(\"./dataProcessed/df_temp.csv\")"
   ]
  },
  {
   "cell_type": "code",
   "execution_count": 7,
   "metadata": {},
   "outputs": [
    {
     "name": "stdout",
     "output_type": "stream",
     "text": [
      "PRE: (1280348, 14)\n",
      "POST: (4389236, 39)\n"
     ]
    }
   ],
   "source": [
    "df_toAdd =  readTable(\"./dataProcessed/df_lab.csv\")\n",
    "print(\"PRE:\", df_temp.shape)\n",
    "df_merged = pd.merge(df_temp, df_toAdd, on=['patientunitstayid', 'timeStep'], how=\"left\").drop_duplicates().reset_index(drop=True)\n",
    "print(\"POST:\", df_merged.shape)"
   ]
  },
  {
   "cell_type": "code",
   "execution_count": 8,
   "metadata": {},
   "outputs": [
    {
     "name": "stdout",
     "output_type": "stream",
     "text": [
      "PRE: (1280348, 14)\n",
      "POST: (4417919, 44)\n"
     ]
    }
   ],
   "source": [
    "df_toAdd =  readTable(\"./dataProcessed/df_microLab.csv\")\n",
    "print(\"PRE:\", df_temp.shape)\n",
    "df_merged = pd.merge(df_merged, df_toAdd, on=['patientunitstayid', 'timeStep'], how=\"left\").drop_duplicates().reset_index(drop=True)\n",
    "print(\"POST:\", df_merged.shape)"
   ]
  },
  {
   "cell_type": "code",
   "execution_count": 9,
   "metadata": {},
   "outputs": [
    {
     "name": "stdout",
     "output_type": "stream",
     "text": [
      "PRE: (4417919, 44)\n",
      "POST: (4417919, 45)\n"
     ]
    }
   ],
   "source": [
    "df_toAdd =  readTable(\"./dataProcessed/df_drugs.csv\")\n",
    "print(\"PRE:\", df_merged.shape)\n",
    "df_merged = pd.merge(df_merged, df_toAdd, on=['patientunitstayid', 'timeStep'], how=\"left\").drop_duplicates().reset_index(drop=True)\n",
    "print(\"POST:\", df_merged.shape)"
   ]
  },
  {
   "cell_type": "code",
   "execution_count": 10,
   "metadata": {},
   "outputs": [
    {
     "name": "stdout",
     "output_type": "stream",
     "text": [
      "PRE: (4417919, 45)\n",
      "POST: (4417919, 48)\n"
     ]
    }
   ],
   "source": [
    "df_toAdd =  readTable(\"./dataProcessed/df_va.csv\")\n",
    "print(\"PRE:\", df_merged.shape)\n",
    "df_merged = pd.merge(df_merged, df_toAdd, on=['patientunitstayid', 'timeStep'], how=\"left\").drop_duplicates().reset_index(drop=True)\n",
    "print(\"POST:\", df_merged.shape)"
   ]
  },
  {
   "cell_type": "code",
   "execution_count": 11,
   "metadata": {},
   "outputs": [
    {
     "name": "stdout",
     "output_type": "stream",
     "text": [
      "PRE: (4417919, 48)\n",
      "POST: (4417919, 53)\n",
      "PRE: (4417919, 53)\n",
      "POST: (4417919, 58)\n",
      "PRE: (4417919, 58)\n",
      "POST: (4417919, 63)\n"
     ]
    }
   ],
   "source": [
    "df_toAdd =  readTable(\"./dataProcessed/df_vp1.csv\")\n",
    "print(\"PRE:\", df_merged.shape)\n",
    "df_merged = pd.merge(df_merged, df_toAdd, on=['patientunitstayid', 'timeStep'], how=\"left\").drop_duplicates().reset_index(drop=True)\n",
    "print(\"POST:\", df_merged.shape)\n",
    "\n",
    "df_toAdd =  readTable(\"./dataProcessed/df_vp2.csv\")\n",
    "print(\"PRE:\", df_merged.shape)\n",
    "df_merged = pd.merge(df_merged, df_toAdd, on=['patientunitstayid', 'timeStep'], how=\"left\").drop_duplicates().reset_index(drop=True)\n",
    "print(\"POST:\", df_merged.shape)\n",
    "\n",
    "df_toAdd =  readTable(\"./dataProcessed/df_vp3.csv\")\n",
    "print(\"PRE:\", df_merged.shape)\n",
    "df_merged = pd.merge(df_merged, df_toAdd, on=['patientunitstayid', 'timeStep'], how=\"left\").drop_duplicates().reset_index(drop=True)\n",
    "print(\"POST:\", df_merged.shape)"
   ]
  },
  {
   "cell_type": "code",
   "execution_count": 12,
   "metadata": {},
   "outputs": [],
   "source": [
    "df_merged.to_csv('./dataProcessed/df_finalDataset.csv', index=False)"
   ]
  },
  {
   "cell_type": "code",
   "execution_count": 14,
   "metadata": {},
   "outputs": [
    {
     "data": {
      "text/plain": [
       "patientunitstayid          0\n",
       "gender                   453\n",
       "age                      328\n",
       "apacheadmissiondx      98366\n",
       "admissionweight       127465\n",
       "                      ...   \n",
       "offset_y             3121119\n",
       "BT                   4159535\n",
       "sao2                 3139458\n",
       "HR                   3123935\n",
       "respiration          3209187\n",
       "Length: 63, dtype: int64"
      ]
     },
     "execution_count": 14,
     "metadata": {},
     "output_type": "execute_result"
    }
   ],
   "source": [
    "df_merged.isnull().sum()"
   ]
  },
  {
   "cell_type": "code",
   "execution_count": 16,
   "metadata": {},
   "outputs": [
    {
     "data": {
      "text/plain": [
       "200857"
      ]
     },
     "execution_count": 16,
     "metadata": {},
     "output_type": "execute_result"
    }
   ],
   "source": [
    "len(df_merged.patientunitstayid.unique())"
   ]
  },
  {
   "cell_type": "code",
   "execution_count": null,
   "metadata": {},
   "outputs": [],
   "source": [
    "# We don't have the following features:\n",
    "# SBP: systolic blood pressure\n",
    "# MAP: mean arterial pressure\n",
    "# MVENT: mechanical ventilation"
   ]
  },
  {
   "cell_type": "code",
   "execution_count": null,
   "metadata": {},
   "outputs": [],
   "source": [
    "# microlab, sacar bacterias y fecha. Ver histograma de cuando tenemos dentro de la uci los cultivos. \n",
    "para sacar bacteremia. si en el cultivo bacteria, flag a 1 de bacteremia; ver de manuscrito bacteremia score\n",
    "\n",
    "BSI\n",
    "Bacteremia + signos de infeccion\n",
    "signos de infeccion - prescripcion de antibiotico; recurrent test; IPS (revisar paper para ver como se computa)\n",
    "\n",
    "sepsis\n"
   ]
  },
  {
   "cell_type": "code",
   "execution_count": null,
   "metadata": {},
   "outputs": [],
   "source": []
  }
 ],
 "metadata": {
  "kernelspec": {
   "display_name": "Python 3 (ipykernel)",
   "language": "python",
   "name": "python3"
  },
  "language_info": {
   "codemirror_mode": {
    "name": "ipython",
    "version": 3
   },
   "file_extension": ".py",
   "mimetype": "text/x-python",
   "name": "python",
   "nbconvert_exporter": "python",
   "pygments_lexer": "ipython3",
   "version": "3.11.4"
  }
 },
 "nbformat": 4,
 "nbformat_minor": 4
}
