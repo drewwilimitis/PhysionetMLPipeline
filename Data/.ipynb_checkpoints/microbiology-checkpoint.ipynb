{
 "cells": [
  {
   "cell_type": "code",
   "execution_count": null,
   "id": "e4134e57",
   "metadata": {},
   "outputs": [],
   "source": [
    "import pandas as pd\n",
    "import numpy as np\n",
    "from datetime import timedelta\n",
    "\n",
    "import warnings\n",
    "warnings.filterwarnings(\"ignore\")"
   ]
  },
  {
   "cell_type": "markdown",
   "id": "07c263a0",
   "metadata": {},
   "source": [
    "## EICU"
   ]
  },
  {
   "cell_type": "code",
   "execution_count": null,
   "id": "1493d267",
   "metadata": {},
   "outputs": [],
   "source": [
    "path2 = '../datasets/eicu_0.5.6.parquet'\n",
    "df_eicu = pd.read_parquet(path2)\n",
    "print(\"# of patients:\", len(df_eicu.stay_id.unique()))\n",
    "df_eicu_micro = pd.read_parquet('df_eicu_with_micro.parquet')\n",
    "print(\"# of patients:\", len(df_eicu_micro.stay_id.unique()))"
   ]
  },
  {
   "cell_type": "markdown",
   "id": "56ae2a7f",
   "metadata": {},
   "source": [
    "## MIMIC "
   ]
  },
  {
   "cell_type": "code",
   "execution_count": null,
   "id": "42b4d30a",
   "metadata": {},
   "outputs": [],
   "source": [
    "path2 = '../datasets/miiv_0.5.6.parquet'\n",
    "df_mimic = pd.read_parquet(path2)\n",
    "print(\"# of patients:\", len(df_mimic.stay_id.unique()))\n",
    "df_mimic_micro = pd.read_parquet('df_mimic_with_micro.parquet')\n",
    "print(\"# of patients:\", len(df_mimic_micro.stay_id.unique()))"
   ]
  },
  {
   "cell_type": "markdown",
   "id": "01588634",
   "metadata": {},
   "source": [
    "## AUMC"
   ]
  },
  {
   "cell_type": "code",
   "execution_count": null,
   "id": "2e3f37de",
   "metadata": {},
   "outputs": [],
   "source": [
    "path1 = \"../datasets/microLab.csv\"\n",
    "path2 = '../datasets/aumc_0.5.6.parquet'\n",
    "\n",
    "df = pd.read_parquet(path2)\n",
    "df"
   ]
  },
  {
   "cell_type": "code",
   "execution_count": null,
   "id": "5d62c64e",
   "metadata": {},
   "outputs": [],
   "source": [
    "df = pd.read_csv(\"../datasets/raw_data/freetextitems.csv\", encoding='latin1')"
   ]
  },
  {
   "cell_type": "code",
   "execution_count": null,
   "id": "10e72427",
   "metadata": {},
   "outputs": [],
   "source": [
    "df"
   ]
  },
  {
   "cell_type": "code",
   "execution_count": null,
   "id": "bcfc2e4b",
   "metadata": {},
   "outputs": [],
   "source": []
  }
 ],
 "metadata": {
  "kernelspec": {
   "display_name": "Python 3 (ipykernel)",
   "language": "python",
   "name": "python3"
  },
  "language_info": {
   "codemirror_mode": {
    "name": "ipython",
    "version": 3
   },
   "file_extension": ".py",
   "mimetype": "text/x-python",
   "name": "python",
   "nbconvert_exporter": "python",
   "pygments_lexer": "ipython3",
   "version": "3.11.4"
  }
 },
 "nbformat": 4,
 "nbformat_minor": 5
}
