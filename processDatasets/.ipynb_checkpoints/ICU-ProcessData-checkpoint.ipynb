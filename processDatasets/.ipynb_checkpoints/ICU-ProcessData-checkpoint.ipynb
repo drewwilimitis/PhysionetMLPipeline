{
 "cells": [
  {
   "cell_type": "code",
   "execution_count": null,
   "metadata": {},
   "outputs": [],
   "source": [
    "import pandas as pd\n",
    "import numpy as np\n",
    "from datetime import timedelta\n",
    "\n",
    "import warnings\n",
    "warnings.filterwarnings(\"ignore\")"
   ]
  },
  {
   "cell_type": "code",
   "execution_count": null,
   "metadata": {},
   "outputs": [],
   "source": [
    "def readTable(path):\n",
    "    df = pd.read_csv(path)\n",
    "    return df\n",
    "\n",
    "def isSepsis(text):\n",
    "    if 'sepsis' in text.lower():\n",
    "        return 1\n",
    "    else:\n",
    "        return 0\n",
    "    \n",
    "def sepsisLabel(path, df_pat):\n",
    "    df_adx = readTable(path)\n",
    "    df_adx['sepsis_diag'] = df_adx['admitdxtext'].apply(isSepsis)\n",
    "    df_adx = df_adx[['patientunitstayid', 'sepsis_diag']]\n",
    "    df_adx = df_adx.sort_values(by=['patientunitstayid', 'sepsis_diag'], ascending=[True, False])\n",
    "    df_adx = df_adx.drop_duplicates(subset='patientunitstayid', keep='first')\n",
    "    df_pat = pd.merge(df_pat, df_adx, on=['patientunitstayid'], how=\"left\").drop_duplicates().reset_index(drop=True)\n",
    "    return df_pat\n",
    "\n",
    "def processTables(df_pat, keys, offsetfeature, pathTable, debug=True):\n",
    "    df = readTable(pathTable)\n",
    "    if debug: print(\"SHAPE:\", df.shape)\n",
    "    # Add to lab features date of started ICU\n",
    "    data = df_pat[['patientunitstayid', 'unitadmittime24']].drop_duplicates().reset_index(drop=True)\n",
    "    df_merge = pd.merge(df, data, on='patientunitstayid', how='left').drop_duplicates().reset_index(drop=True)\n",
    "\n",
    "    # For each sample, get the date of started icu + minutes from lab test/results\n",
    "    df_merge['unitadmittime24'] = pd.to_datetime(df_merge['unitadmittime24'])  \n",
    "    df_merge['dateEvent'] = df_merge.apply(lambda row: row['unitadmittime24'] + \\\n",
    "                                                timedelta(minutes=row[offsetfeature]), axis=1)\n",
    "    if debug: print(\"FINAL SHAPE:\", df.shape)\n",
    "    return df_merge[keys]"
   ]
  },
  {
   "cell_type": "code",
   "execution_count": null,
   "metadata": {},
   "outputs": [],
   "source": [
    "## Temporal features\n",
    "### Table: admissiondx, allergy, laboratory,  diagnosis, vitalPeriodic and vitalAperiodic\n",
    "#====================== LOAD DATA ==========================#\n",
    "df_pat = readTable(\"../datasets/physionet-eicu-crb/patient.csv\")\n",
    "#====================== ADMISSIONDDX ==========================#\n",
    "df_pat = sepsisLabel(\"../datasets/physionet-eicu-crb/admissionDx.csv\", df_pat)\n",
    "\n",
    "#====================== ALLERGY ==========================#\n",
    "pathTable = \"../datasets/physionet-eicu-crb/allergy.csv\"\n",
    "offsetfeature = 'allergyoffset'\n",
    "keys = ['patientunitstayid', 'allergyoffset', 'allergynotetype', 'specialtytype', 'allergyname']\n",
    "df_allergy = processTables(df_pat, keys, offsetfeature, pathTable, debug)\n",
    "\n",
    "#====================== LAB ==========================#\n",
    "pathTable = \"../datasets/physionet-eicu-crb/lab.csv\"\n",
    "offsetfeature = 'labresultoffset'\n",
    "keys = ['patientunitstayid', 'labresultoffset', 'labname', 'labresult','labresulttext', 'labmeasurenamesystem']\n",
    "df_lab = processTables(df_pat, keys, offsetfeature, pathTable, debug)\n",
    "\n",
    "#====================== diagnosis ==========================#\n",
    "pathTable = \"../datasets/physionet-eicu-crb/diagnosis.csv\"\n",
    "offsetfeature = 'diagnosisoffset'\n",
    "keys = ['patientunitstayid', 'diagnosisoffset', 'diagnosisstring', 'icd9code', 'diagnosispriority']\n",
    "df_diag = processTables(df_pat, keys, offsetfeature, pathTable, debug)\n",
    "\n",
    "#====================== vitalPeriodic  ==========================#\n",
    "pathTable = \"../datasets/physionet-eicu-crb/vitalPeriodic.csv\"\n",
    "offsetfeature = 'observationoffset'\n",
    "keys = ['temperature', 'sao2', 'heartrate', 'respiration', 'cvp', 'etco2',\n",
    "       'systemicsystolic', 'systemicdiastolic', 'systemicmean', 'pasystolic',\n",
    "       'padiastolic', 'pamean', 'st1', 'st2', 'st3', 'icp']\n",
    "df_vp = processTables(df_pat, keys, offsetfeature, pathTable, debug)\n",
    "\n",
    "#====================== vitalAPeriodic  ==========================#\n",
    "pathTable = \"../datasets/physionet-eicu-crb/vitalAperiodic.csv\"\n",
    "offsetfeature = 'observationoffset'\n",
    "keys = ['noninvasivesystolic', 'noninvasivediastolic', 'noninvasivemean',\n",
    "       'paop', 'cardiacoutput', 'cardiacinput', 'svr', 'svri', 'pvr', 'pvri']\n",
    "df_va = processTables(df_pat, keys, offsetfeature, pathTable, debug)"
   ]
  },
  {
   "cell_type": "markdown",
   "metadata": {},
   "source": [
    "## Test pd.Grouper"
   ]
  },
  {
   "cell_type": "code",
   "execution_count": null,
   "metadata": {},
   "outputs": [],
   "source": [
    "from datetime import datetime, timedelta\n",
    "import random\n",
    "\n",
    "fechas = []\n",
    "for mes in range(1, 13):\n",
    "    for _ in range(3):\n",
    "        fecha = datetime(2024, mes, random.randint(1, 28))\n",
    "        hora = timedelta(hours=random.randint(0, 23))\n",
    "        fecha_con_hora = fecha + hora\n",
    "        fechas.append(fecha_con_hora)\n",
    "\n",
    "df = pd.DataFrame({'Fecha': fechas})\n",
    "df_agrupado = df.groupby(pd.Grouper(key='Fecha', freq='1d')).count()\n",
    "df_agrupado"
   ]
  },
  {
   "cell_type": "markdown",
   "metadata": {},
   "source": [
    "## Static features"
   ]
  },
  {
   "cell_type": "code",
   "execution_count": null,
   "metadata": {},
   "outputs": [],
   "source": [
    "# values for differents features at the time of the APACHE value registered\n",
    "df_apachePatientResult = readTable(\"../datasets/physionet-eicu-crb/apacheApsVar.csv\")\n",
    "\n",
    "# Get the date of admitted icu\n",
    "df_aux = df_temporal[['patientunitstayid', 'gender', 'age']]\n",
    "df_aux = df_aux.drop_duplicates().reset_index(drop=True)\n",
    "print(\"# of patients temporal data:\", len(df_aux.patientunitstayid.unique()))\n",
    "\n",
    "# Select the same patients that I've used in temporal data\n",
    "df_apachePatientResult = df_apachePatientResult[df_apachePatientResult.patientunitstayid.isin(df_aux.patientunitstayid.unique())]\n",
    "print(\"# of patients df_apachePatientResult:\", len(df_apachePatientResult.patientunitstayid.unique()))\n",
    "\n",
    "# Merge with previous dataframe\n",
    "df_static = pd.merge(df_apachePatientResult, df_aux, on='patientunitstayid', how='inner').drop_duplicates().reset_index(drop=True)\n",
    "print(\"# of patients after merge:\", len(df_static.patientunitstayid.unique()))\n",
    "\n",
    "# Rename some features\n",
    "drop_features = ['apacheapsvarid']\n",
    "df_static_fv = df_static.drop(drop_features, axis=1)\n",
    "\n",
    "rename_features = {'patientunitstayid': 'id',\n",
    "       'temperature':'temp',\n",
    "       'respiratoryrate':'resp',\n",
    "       'sodium':'na', 'heartrate':'hr',\n",
    "       'creatinine':'crea', 'albumin':'alb', \n",
    "       'glucose':'glu', 'bilirubin':'bili',\n",
    "       'gender':'sex'}\n",
    "\n",
    "df_static_fv.rename(columns=rename_features, inplace=True)\n",
    "df_static_fv.keys()"
   ]
  },
  {
   "cell_type": "code",
   "execution_count": null,
   "metadata": {},
   "outputs": [],
   "source": [
    "def createTimeDataFrame(df_to_work, frecuencySample, featureToCreateTimeSteps):\n",
    "    '''\n",
    "    This function create a temporal dataframe\n",
    "    with rows in based on the number of time step that we define. \n",
    "    '''\n",
    "\n",
    "    expanded_df = pd.DataFrame(columns=df_to_work.columns)\n",
    "    expanded_df['timeStep'] = 0\n",
    "\n",
    "    for index, row in df_to_work.iterrows():\n",
    "        admission_date = row['unitadmittime24']\n",
    "        discharge_offset = int(np.ceil(row[featureToCreateTimeSteps]/frecuencySample))\n",
    "\n",
    "        for minute in range(discharge_offset):\n",
    "            new_row = row.copy()  \n",
    "            new_row['timeStep'] = minute + 1\n",
    "            new_row = pd.DataFrame([list(new_row.values)], columns=expanded_df.columns) \n",
    "            expanded_df = pd.concat([expanded_df, new_row], ignore_index=True)\n",
    "            \n",
    "    return expanded_df\n",
    "\n",
    "\n",
    "def addTemporalData(df, df_temporal, offsetfeature, importantKeys):\n",
    "    '''\n",
    "    This function afford add new temporal data to original temporal data. \n",
    "    '''\n",
    "    # Add to lab features date of started ICU\n",
    "    print(\"# of patients:\", len(df_temporal.patientunitstayid.unique()))\n",
    "    data = df_temporal[['patientunitstayid', 'unitadmittime24']].drop_duplicates().reset_index(drop=True)\n",
    "    df_merge = pd.merge(df, data, on='patientunitstayid', how='inner').drop_duplicates().reset_index(drop=True)\n",
    "    print(\"# of patients:\", len(df_merge.patientunitstayid.unique()))\n",
    "\n",
    "    # For each sample, get the date of started icu + minutes from lab test/results\n",
    "    df_merge['unitadmittime24'] = pd.to_datetime(df_merge['unitadmittime24'])  \n",
    "    df_merge['date_event'] = df_merge.apply(lambda row: row['unitadmittime24'] + \\\n",
    "                                            timedelta(minutes=row[offsetfeature]), axis=1)\n",
    "    # Get the timeStep for each sample in base on days from started icu + minutes from lab test/results\n",
    "    timesteps = np.ceil(((df_merge['date_event'] - df_merge['unitadmittime24']).dt.days*24 + \\\n",
    "                         (df_merge['date_event'] - df_merge['unitadmittime24']).dt.seconds/(3600))/24)\n",
    "    df_merge['timeStep'] =  timesteps\n",
    "    # Select the most important features\n",
    "    df_merge = df_merge[importantKeys]\n",
    "    print(\"# of patients finally:\", len(df_merge.patientunitstayid.unique()), \"- Dimensiones of dataset to add:\", df_merge.shape)\n",
    "    # Merge init temporal dataset with new dataset (new features)\n",
    "    df_temporal_f1 = pd.merge(df_temporal, df_merge, on=['patientunitstayid','timeStep'], how='left')\n",
    "    print(\"Old dimensiones of df_temporal:\", df_temporal.shape)\n",
    "    print(\"New dimensiones of df_temporal:\", df_temporal_f1.shape)\n",
    "    \n",
    "    return df_temporal_f1\n",
    "\n",
    "\n"
   ]
  },
  {
   "cell_type": "code",
   "execution_count": null,
   "metadata": {},
   "outputs": [],
   "source": [
    "frecuencySample = 60*24\n",
    "debug = True"
   ]
  },
  {
   "cell_type": "code",
   "execution_count": null,
   "metadata": {},
   "outputs": [],
   "source": []
  },
  {
   "cell_type": "markdown",
   "metadata": {},
   "source": [
    "### step 1: Generate time dimension"
   ]
  },
  {
   "cell_type": "code",
   "execution_count": null,
   "metadata": {},
   "outputs": [],
   "source": [
    "# 'hospitaladmittime24': time in 24 hour format of the hospital admit\n",
    "#     started_hosp\n",
    "# 'hospitaladmitoffset': number of minutes from unit admit time that the patient was admitted to the hospital\n",
    "#     timeToStarted_icu - time hospital admission to icu admission\n",
    "\n",
    "# 'hospitaldischargetime24': time in 24 hour format of when the hospital discharge event occurred\n",
    "# 'hospitaldischargeoffset': number of minutes from unit admit time that the patient was discharged from the hospital\n",
    "\n",
    "# 'unitAdmitTime24': time in 24 hour format of when the unit admit event occurred\n",
    "#     started_icu\n",
    "# 'unitdischargetime24': time in 24 hour format of when the unit discharge event occurred \n",
    "#     ended_icu\n",
    "# 'unitdischargeoffset': number of minutes from unit admit time that the patient was discharged from the unit\n",
    "#     timeToEnded_icu\n",
    "# 'hospitaldischargeyear': year of the hospital discharge date\n",
    "if debug:\n",
    "    print(\"# of patients:\", df_pat.shape[0])\n",
    "    print(\"Some statistics (median-minutes):\")\n",
    "    print(\"\\t Time in-H to in-ICU:\", np.abs(df_pat.hospitaladmitoffset).median())\n",
    "    print(\"\\t Time in-ICU to out-ICU:\", df_pat.unitdischargeoffset.median())\n",
    "    timeto_inH_outICU = df_pat.unitdischargeoffset - df_pat.hospitaladmitoffset\n",
    "    timeto_outICU_outH = df_pat.hospitaldischargeoffset - timeto_inH_outICU\n",
    "    print(\"\\t Time out-ICU to out-H:\", timeto_outICU_outH.median())\n",
    "    print(\"\\t Time in-H to out-H:\", df_pat.hospitaldischargeoffset.median())\n",
    "    \n",
    "df_to_work = df_pat[['patientunitstayid','hospitaladmittime24',\n",
    "        'hospitaladmitoffset', \n",
    "        'hospitaldischargetime24', \n",
    "        'hospitaldischargeoffset',\n",
    "        'unitadmittime24', \n",
    "        'unitdischargetime24',\n",
    "        'unitdischargeoffset',\n",
    "        'hospitaldischargeyear',\n",
    "         'gender', 'age', 'sepsis_diag'\n",
    "       ]]\n",
    "\n",
    "# Filter the number of patients\n",
    "if filterPat:\n",
    "    df_to_work_filt = df_to_work[df_to_work.unitdischargeoffset > frecuencySample]\n",
    "    df_to_work = df_to_work_filt[df_to_work_filt.patientunitstayid.isin(df_to_work_filt.patientunitstayid.unique()[0:100])]\n",
    "print(\"# of patients (after filter):\", df_to_work_filt.shape[0])\n",
    "\n",
    "# Started ICU\n",
    "df_to_work['unitadmittime24'] = pd.to_datetime(df_to_work_filt['unitadmittime24'])\n",
    "# synchronization: in-ICU to out-ICU\n",
    "df_temporal = createTimeDataFrame(df_to_work, frecuencySample, 'unitdischargeoffset')\n",
    "print(\"# of patients (after filter - temporal dataframe):\", len(df_temporal.patientunitstayid.unique()))\n",
    "print(\"Dimensions:\", df_temporal.shape)\n",
    "\n",
    "# Drop static features of temporal dataset\n",
    "df_temporal_f0 = df_temporal.drop(['age', 'gender'], axis=1)"
   ]
  },
  {
   "cell_type": "markdown",
   "metadata": {},
   "source": [
    "### Patient information\n",
    "\n",
    "Active infection at ICU discharge: activeUponDischarge\n",
    "Number of minutes from ICU admission to infection detection: cplInfectDiseaseOffset\n",
    "Site of infection: infectDiseaseSite\n",
    "Probability of infection: infectDiseaseAssessment\n",
    "\n",
    "It's important but we don't have enough data. "
   ]
  },
  {
   "cell_type": "code",
   "execution_count": null,
   "metadata": {},
   "outputs": [],
   "source": [
    "df_inf = pd.read_csv(\"../datasets/physionet-eicu-crb/carePlanInfectiousDisease.csv\")\n",
    "df_inf.shape"
   ]
  },
  {
   "cell_type": "markdown",
   "metadata": {},
   "source": [
    "### LAB FEATURES"
   ]
  },
  {
   "cell_type": "code",
   "execution_count": null,
   "metadata": {
    "scrolled": true
   },
   "outputs": [],
   "source": [
    "# Load new nada\n",
    "df_lab = pd.read_csv(\"../datasets/physionet-eicu-crb/lab.csv\")\n",
    "if filterPat:\n",
    "    df_lab = df_lab[df_lab.patientunitstayid.isin(df_temporal_f0.patientunitstayid.unique())]\n",
    "\n",
    "keys = ['patientunitstayid','labname', 'labresult','labresulttext', 'labmeasurenamesystem', 'timeStep']\n",
    "df_temporal_f1 = addTemporalData(df_lab, df_temporal_f0, 'labresultoffset', keys)\n",
    "df_temporal_f1.keys()"
   ]
  },
  {
   "cell_type": "code",
   "execution_count": null,
   "metadata": {},
   "outputs": [],
   "source": [
    "df_temporal_f1"
   ]
  },
  {
   "cell_type": "markdown",
   "metadata": {},
   "source": [
    "### MICRO LAB FEATURES"
   ]
  },
  {
   "cell_type": "code",
   "execution_count": null,
   "metadata": {
    "scrolled": true
   },
   "outputs": [],
   "source": [
    "# It's important but we don't have enough data.\n",
    "df_mlab = pd.read_csv(\"../datasets/physionet-eicu-crb/microLab.csv\")\n",
    "df_mlab.shape"
   ]
  },
  {
   "cell_type": "markdown",
   "metadata": {},
   "source": [
    "### RESPIRATORY CARE"
   ]
  },
  {
   "cell_type": "code",
   "execution_count": null,
   "metadata": {},
   "outputs": [],
   "source": [
    "# # There are problemas with ventendoffset\n",
    "# df_vent = pd.read_csv(\"../datasets/physionet-eicu-crb/respiratoryCare.csv\")\n",
    "# df_vent.keys()\n",
    "\n",
    "# # 'ventstartoffset': number of minutes from unit admit time that the vent was started\n",
    "# # 'ventendoffset': number of minutes from unit admit time that the vent was ended\n",
    "# # 'priorVentStartTime24': time in 24 hour format of when the prior vent start event occurred\n",
    "# df_vent['ventendoffset'].value_counts()"
   ]
  },
  {
   "cell_type": "markdown",
   "metadata": {},
   "source": [
    "### DIAGNOSIS"
   ]
  },
  {
   "cell_type": "code",
   "execution_count": null,
   "metadata": {},
   "outputs": [],
   "source": [
    "df_diag = pd.read_csv(\"../datasets/physionet-eicu-crb/diagnosis.csv\")\n",
    "if filterPat:\n",
    "    df_diag = df_diag[df_diag.patientunitstayid.isin(df_temporal_f0.patientunitstayid.unique())]\n",
    "print(\"# of patients:\", len(df_diag.patientunitstayid.unique()))\n",
    "print(df_diag.keys())\n",
    "\n",
    "keys = ['patientunitstayid','diagnosisoffset', 'diagnosisstring', 'icd9code', 'diagnosispriority', 'timeStep']\n",
    "df_temporal_f2 = addTemporalData(df_diag, df_temporal_f1, 'diagnosisoffset', keys)\n",
    "df_temporal_f2.keys()"
   ]
  },
  {
   "cell_type": "markdown",
   "metadata": {},
   "source": [
    "### INFUSION DRUG"
   ]
  },
  {
   "cell_type": "code",
   "execution_count": null,
   "metadata": {},
   "outputs": [],
   "source": [
    "# df_drug= pd.read_csv(\"../datasets/physionet-eicu-crb/infusionDrug.csv\")\n",
    "# if filterPat:\n",
    "#     df_drug = df_drug[df_drug.patientunitstayid.isin(df_temporal_f0.patientunitstayid.unique())]\n",
    "# print(\"# of patients:\", len(df_drug.patientunitstayid.unique()))\n",
    "# print(df_drug.keys())"
   ]
  },
  {
   "cell_type": "markdown",
   "metadata": {},
   "source": [
    "### VITAL APERIODIC & VITAL PERIODIC"
   ]
  },
  {
   "cell_type": "code",
   "execution_count": null,
   "metadata": {},
   "outputs": [],
   "source": [
    "df_va = pd.read_csv(\"../datasets/physionet-eicu-crb/vitalPeriodic.csv\",low_memory=False)\n",
    "\n",
    "if filterPat:\n",
    "    df_va = df_va[df_va.patientunitstayid.isin(df_temporal_f0.patientunitstayid.unique())]\n",
    "print(\"fin\")\n",
    "\n",
    "print(\"# of patients:\", len(df_va.patientunitstayid.unique()))\n",
    "print(df_va.keys())\n",
    "\n",
    "columnas = ['observationoffset',\n",
    "       'temperature', 'sao2', 'heartrate', 'respiration', 'cvp', 'etco2',\n",
    "       'systemicsystolic', 'systemicdiastolic', 'systemicmean', 'pasystolic',\n",
    "       'padiastolic', 'pamean', 'st1', 'st2', 'st3', 'icp']\n",
    "\n",
    "for columna in df_va.columns:\n",
    "    if columna in columnas:\n",
    "        nuevo_nombre = columna + '_va'\n",
    "        df_va.rename(columns={columna: nuevo_nombre}, inplace=True)\n",
    "        \n",
    "keys = ['patientunitstayid','observationoffset_va',\n",
    "       'temperature_va', 'sao2_va', 'heartrate_va', 'respiration_va', 'cvp_va', 'etco2_va',\n",
    "       'systemicsystolic_va', 'systemicdiastolic_va', 'systemicmean_va', 'pasystolic_va',\n",
    "       'padiastolic_va', 'pamean_va', 'st1_va', 'st2_va', 'st3_va', 'icp_va', 'timeStep']\n",
    "\n",
    "df_temporal_f3 = addTemporalData(df_va, df_temporal_f2, 'observationoffset_va', keys)\n",
    "\n",
    "keys_temp = ['patientunitstayid', 'hospitaladmittime24', 'hospitaladmitoffset',\n",
    "       'hospitaldischargetime24', 'hospitaldischargeoffset', 'unitadmittime24',\n",
    "       'unitdischargetime24', 'unitdischargeoffset', 'hospitaldischargetime24',\n",
    "       'hospitaldischargeoffset', 'hospitaldischargeyear', 'timeStep']\n",
    "\n",
    "temp_data = df_temporal_f3[keys_temp].drop_duplicates().reset_index(drop=True)\n",
    "median_data = df_temporal_f3[keys].groupby([\"patientunitstayid\", \"timeStep\"]).median().reset_index()\n",
    "\n",
    "merged_df = pd.merge(temp_data, median_data, on=['patientunitstayid', 'timeStep'])\n",
    "df_temporal_f3 = merged_df.copy()"
   ]
  },
  {
   "cell_type": "code",
   "execution_count": null,
   "metadata": {
    "scrolled": true
   },
   "outputs": [],
   "source": [
    "df_vp = pd.read_csv(\"../datasets/physionet-eicu-crb/vitalPeriodic.csv\")\n",
    "if filterPat:\n",
    "    df_vp = df_vp[df_vp.patientunitstayid.isin(df_temporal_f0.patientunitstayid.unique())]\n",
    "print(\"# of patients:\", len(df_vp.patientunitstayid.unique()))\n",
    "print(df_vp.keys())\n",
    "\n",
    "columnas = ['observationoffset',\n",
    "       'temperature', 'sao2', 'heartrate', 'respiration', 'cvp', 'etco2',\n",
    "       'systemicsystolic', 'systemicdiastolic', 'systemicmean', 'pasystolic',\n",
    "       'padiastolic', 'pamean', 'st1', 'st2', 'st3', 'icp']\n",
    "\n",
    "for columna in df_vp.columns:\n",
    "    if columna in columnas:\n",
    "        nuevo_nombre = columna + '_vp'\n",
    "        df_vp.rename(columns={columna: nuevo_nombre}, inplace=True)\n",
    "\n",
    "keys = ['patientunitstayid','observationoffset_vp',\n",
    "       'temperature_vp', 'sao2_vp', 'heartrate_vp', 'respiration_vp', 'cvp_vp', 'etco2_vp',\n",
    "       'systemicsystolic_vp', 'systemicdiastolic_vp', 'systemicmean_vp', 'pasystolic_vp',\n",
    "       'padiastolic_vp', 'pamean_vp', 'st1_vp', 'st2_vp', 'st3_vp', 'icp_vp', 'timeStep']\n",
    "\n",
    "df_temporal_f4 = addTemporalData(df_vp, df_temporal_f3, 'observationoffset_vp', keys)\n",
    "\n",
    "keys_temp = ['patientunitstayid', 'hospitaladmittime24', 'hospitaladmitoffset',\n",
    "       'hospitaldischargetime24', 'hospitaldischargeoffset', 'unitadmittime24',\n",
    "       'unitdischargetime24', 'unitdischargeoffset', 'hospitaldischargetime24',\n",
    "       'hospitaldischargeoffset', 'hospitaldischargeyear', 'timeStep']\n",
    "\n",
    "temp_data = df_temporal_f4[keys_temp].drop_duplicates().reset_index(drop=True)\n",
    "keys = list(df_temporal_f4.keys())[15:]\n",
    "keys.insert(0, 'patientunitstayid')\n",
    "keys.insert(0, 'timeStep')\n",
    "median_data = df_temporal_f4[keys].groupby([\"patientunitstayid\", \"timeStep\"]).median().reset_index()\n",
    "\n",
    "merged_df = pd.merge(temp_data, median_data, on=['patientunitstayid', 'timeStep'])\n",
    "df_temporal_f4 = merged_df.copy()"
   ]
  },
  {
   "cell_type": "code",
   "execution_count": null,
   "metadata": {},
   "outputs": [],
   "source": [
    "df_temporal_f4.keys()"
   ]
  },
  {
   "cell_type": "markdown",
   "metadata": {},
   "source": [
    "### Missing values"
   ]
  },
  {
   "cell_type": "code",
   "execution_count": null,
   "metadata": {},
   "outputs": [],
   "source": [
    "total_missing = df_temporal_f4.isna().sum()\n",
    "print(total_missing)"
   ]
  },
  {
   "cell_type": "markdown",
   "metadata": {},
   "source": [
    "### Step 2: Static features\n",
    "#### Apache score"
   ]
  },
  {
   "cell_type": "code",
   "execution_count": null,
   "metadata": {
    "scrolled": true
   },
   "outputs": [],
   "source": [
    "# values for differents features at the time of the APACHE value registered\n",
    "df_apachePatientResult = pd.read_csv(\"../datasets/physionet-eicu-crb/apacheApsVar.csv\")\n",
    "\n",
    "# Get the date of admitted icu\n",
    "df_aux = df_temporal[['patientunitstayid', 'gender', 'age']]\n",
    "df_aux = df_aux.drop_duplicates().reset_index(drop=True)\n",
    "print(\"# of patients temporal data:\", len(df_aux.patientunitstayid.unique()))\n",
    "\n",
    "# Select the same patients that I've used in temporal data\n",
    "df_apachePatientResult = df_apachePatientResult[df_apachePatientResult.patientunitstayid.isin(df_aux.patientunitstayid.unique())]\n",
    "print(\"# of patients df_apachePatientResult:\", len(df_apachePatientResult.patientunitstayid.unique()))\n",
    "\n",
    "# Merge with previous dataframe\n",
    "df_static = pd.merge(df_apachePatientResult, df_aux, on='patientunitstayid', how='inner').drop_duplicates().reset_index(drop=True)\n",
    "print(\"# of patients after merge:\", len(df_static.patientunitstayid.unique()))\n",
    "df_static.keys()"
   ]
  },
  {
   "cell_type": "markdown",
   "metadata": {},
   "source": [
    "## Rename feature"
   ]
  },
  {
   "cell_type": "markdown",
   "metadata": {},
   "source": [
    "### Temporal dataset"
   ]
  },
  {
   "cell_type": "code",
   "execution_count": null,
   "metadata": {},
   "outputs": [],
   "source": [
    "# drop_features = ['hospitaladmittime24', 'hospitaladmitoffset',\n",
    "#        'hospitaldischargetime24', 'hospitaldischargeoffset', 'unitadmittime24',\n",
    "#        'unitdischargetime24', 'unitdischargeoffset', 'hospitaldischargetime24',\n",
    "#        'hospitaldischargeoffset', 'hospitaldischargeyear']\n",
    "\n",
    "# rename_features_fv = rename_features.drop(drop_features, axis=1) \n",
    "\n",
    "# rename_features = {'patientunitstayid':'id', ' 'labresult', 'labresulttext', 'labmeasurenamesystem',\n",
    "#        'diagnosisoffset', 'diagnosisstring', 'icd9code', 'diagnosispriority'}\n",
    "\n",
    "# df_temporal_f2.rename(columns=rename_features, inplace=True)"
   ]
  },
  {
   "cell_type": "markdown",
   "metadata": {},
   "source": [
    "### Static dataset"
   ]
  },
  {
   "cell_type": "code",
   "execution_count": null,
   "metadata": {
    "scrolled": true
   },
   "outputs": [],
   "source": [
    "drop_features = ['apacheapsvarid']\n",
    "df_static_fv = df_static.drop(drop_features, axis=1)\n",
    "\n",
    "rename_features = {'patientunitstayid': 'id',\n",
    "       'temperature':'temp',\n",
    "       'respiratoryrate':'resp',\n",
    "       'sodium':'na', 'heartrate':'hr',\n",
    "       'creatinine':'crea', 'albumin':'alb', \n",
    "       'glucose':'glu', 'bilirubin':'bili',\n",
    "       'gender':'sex'}\n",
    "\n",
    "df_static_fv.rename(columns=rename_features, inplace=True)\n",
    "df_static_fv.keys()"
   ]
  },
  {
   "cell_type": "code",
   "execution_count": null,
   "metadata": {},
   "outputs": [],
   "source": []
  },
  {
   "cell_type": "code",
   "execution_count": null,
   "metadata": {},
   "outputs": [],
   "source": []
  },
  {
   "cell_type": "code",
   "execution_count": null,
   "metadata": {},
   "outputs": [],
   "source": []
  }
 ],
 "metadata": {
  "kernelspec": {
   "display_name": "Python 3 (ipykernel)",
   "language": "python",
   "name": "python3"
  },
  "language_info": {
   "codemirror_mode": {
    "name": "ipython",
    "version": 3
   },
   "file_extension": ".py",
   "mimetype": "text/x-python",
   "name": "python",
   "nbconvert_exporter": "python",
   "pygments_lexer": "ipython3",
   "version": "3.11.4"
  }
 },
 "nbformat": 4,
 "nbformat_minor": 4
}
